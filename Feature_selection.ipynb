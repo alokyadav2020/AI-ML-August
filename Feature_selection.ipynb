{
 "cells": [
  {
   "cell_type": "code",
   "execution_count": 1,
   "metadata": {},
   "outputs": [
    {
     "data": {
      "text/html": [
       "<div>\n",
       "<style scoped>\n",
       "    .dataframe tbody tr th:only-of-type {\n",
       "        vertical-align: middle;\n",
       "    }\n",
       "\n",
       "    .dataframe tbody tr th {\n",
       "        vertical-align: top;\n",
       "    }\n",
       "\n",
       "    .dataframe thead th {\n",
       "        text-align: right;\n",
       "    }\n",
       "</style>\n",
       "<table border=\"1\" class=\"dataframe\">\n",
       "  <thead>\n",
       "    <tr style=\"text-align: right;\">\n",
       "      <th></th>\n",
       "      <th>edu_goal</th>\n",
       "      <th>hours_study</th>\n",
       "      <th>hours_TV</th>\n",
       "      <th>hours_sleep</th>\n",
       "      <th>height_cm</th>\n",
       "      <th>grade_level</th>\n",
       "      <th>exam_score</th>\n",
       "    </tr>\n",
       "  </thead>\n",
       "  <tbody>\n",
       "    <tr>\n",
       "      <th>0</th>\n",
       "      <td>bachelors</td>\n",
       "      <td>1</td>\n",
       "      <td>4</td>\n",
       "      <td>10</td>\n",
       "      <td>155</td>\n",
       "      <td>8</td>\n",
       "      <td>71</td>\n",
       "    </tr>\n",
       "    <tr>\n",
       "      <th>1</th>\n",
       "      <td>bachelors</td>\n",
       "      <td>2</td>\n",
       "      <td>3</td>\n",
       "      <td>10</td>\n",
       "      <td>151</td>\n",
       "      <td>8</td>\n",
       "      <td>72</td>\n",
       "    </tr>\n",
       "    <tr>\n",
       "      <th>2</th>\n",
       "      <td>bachelors</td>\n",
       "      <td>3</td>\n",
       "      <td>4</td>\n",
       "      <td>8</td>\n",
       "      <td>160</td>\n",
       "      <td>8</td>\n",
       "      <td>78</td>\n",
       "    </tr>\n",
       "    <tr>\n",
       "      <th>3</th>\n",
       "      <td>masters</td>\n",
       "      <td>3</td>\n",
       "      <td>3</td>\n",
       "      <td>8</td>\n",
       "      <td>160</td>\n",
       "      <td>8</td>\n",
       "      <td>79</td>\n",
       "    </tr>\n",
       "    <tr>\n",
       "      <th>4</th>\n",
       "      <td>masters</td>\n",
       "      <td>3</td>\n",
       "      <td>2</td>\n",
       "      <td>6</td>\n",
       "      <td>156</td>\n",
       "      <td>8</td>\n",
       "      <td>85</td>\n",
       "    </tr>\n",
       "    <tr>\n",
       "      <th>5</th>\n",
       "      <td>masters</td>\n",
       "      <td>4</td>\n",
       "      <td>3</td>\n",
       "      <td>6</td>\n",
       "      <td>150</td>\n",
       "      <td>8</td>\n",
       "      <td>86</td>\n",
       "    </tr>\n",
       "    <tr>\n",
       "      <th>6</th>\n",
       "      <td>masters</td>\n",
       "      <td>3</td>\n",
       "      <td>2</td>\n",
       "      <td>8</td>\n",
       "      <td>164</td>\n",
       "      <td>8</td>\n",
       "      <td>92</td>\n",
       "    </tr>\n",
       "    <tr>\n",
       "      <th>7</th>\n",
       "      <td>phd</td>\n",
       "      <td>4</td>\n",
       "      <td>2</td>\n",
       "      <td>8</td>\n",
       "      <td>151</td>\n",
       "      <td>8</td>\n",
       "      <td>93</td>\n",
       "    </tr>\n",
       "    <tr>\n",
       "      <th>8</th>\n",
       "      <td>phd</td>\n",
       "      <td>5</td>\n",
       "      <td>1</td>\n",
       "      <td>10</td>\n",
       "      <td>158</td>\n",
       "      <td>8</td>\n",
       "      <td>99</td>\n",
       "    </tr>\n",
       "    <tr>\n",
       "      <th>9</th>\n",
       "      <td>phd</td>\n",
       "      <td>5</td>\n",
       "      <td>1</td>\n",
       "      <td>10</td>\n",
       "      <td>152</td>\n",
       "      <td>8</td>\n",
       "      <td>100</td>\n",
       "    </tr>\n",
       "  </tbody>\n",
       "</table>\n",
       "</div>"
      ],
      "text/plain": [
       "    edu_goal  hours_study  hours_TV  hours_sleep  height_cm  grade_level  \\\n",
       "0  bachelors            1         4           10        155            8   \n",
       "1  bachelors            2         3           10        151            8   \n",
       "2  bachelors            3         4            8        160            8   \n",
       "3    masters            3         3            8        160            8   \n",
       "4    masters            3         2            6        156            8   \n",
       "5    masters            4         3            6        150            8   \n",
       "6    masters            3         2            8        164            8   \n",
       "7        phd            4         2            8        151            8   \n",
       "8        phd            5         1           10        158            8   \n",
       "9        phd            5         1           10        152            8   \n",
       "\n",
       "   exam_score  \n",
       "0          71  \n",
       "1          72  \n",
       "2          78  \n",
       "3          79  \n",
       "4          85  \n",
       "5          86  \n",
       "6          92  \n",
       "7          93  \n",
       "8          99  \n",
       "9         100  "
      ]
     },
     "execution_count": 1,
     "metadata": {},
     "output_type": "execute_result"
    }
   ],
   "source": [
    "import pandas as pd\n",
    "\n",
    "df = pd.DataFrame(data={\n",
    "    'edu_goal': ['bachelors', 'bachelors', 'bachelors', 'masters', 'masters', 'masters', 'masters', 'phd', 'phd', 'phd'],\n",
    "    'hours_study': [1, 2, 3, 3, 3, 4, 3, 4, 5, 5],\n",
    "    'hours_TV': [4, 3, 4, 3, 2, 3, 2, 2, 1, 1],\n",
    "    'hours_sleep': [10, 10, 8, 8, 6, 6, 8, 8, 10, 10],\n",
    "    'height_cm': [155, 151, 160, 160, 156, 150, 164, 151, 158, 152],\n",
    "    'grade_level': [8, 8, 8, 8, 8, 8, 8, 8, 8, 8],\n",
    "    'exam_score': [71, 72, 78, 79, 85, 86, 92, 93, 99, 100]\n",
    "})\n",
    "\n",
    "df"
   ]
  },
  {
   "cell_type": "code",
   "execution_count": 2,
   "metadata": {},
   "outputs": [
    {
     "data": {
      "text/html": [
       "<div>\n",
       "<style scoped>\n",
       "    .dataframe tbody tr th:only-of-type {\n",
       "        vertical-align: middle;\n",
       "    }\n",
       "\n",
       "    .dataframe tbody tr th {\n",
       "        vertical-align: top;\n",
       "    }\n",
       "\n",
       "    .dataframe thead th {\n",
       "        text-align: right;\n",
       "    }\n",
       "</style>\n",
       "<table border=\"1\" class=\"dataframe\">\n",
       "  <thead>\n",
       "    <tr style=\"text-align: right;\">\n",
       "      <th></th>\n",
       "      <th>edu_goal</th>\n",
       "      <th>hours_study</th>\n",
       "      <th>hours_TV</th>\n",
       "      <th>hours_sleep</th>\n",
       "      <th>height_cm</th>\n",
       "      <th>grade_level</th>\n",
       "    </tr>\n",
       "  </thead>\n",
       "  <tbody>\n",
       "    <tr>\n",
       "      <th>0</th>\n",
       "      <td>bachelors</td>\n",
       "      <td>1</td>\n",
       "      <td>4</td>\n",
       "      <td>10</td>\n",
       "      <td>155</td>\n",
       "      <td>8</td>\n",
       "    </tr>\n",
       "    <tr>\n",
       "      <th>1</th>\n",
       "      <td>bachelors</td>\n",
       "      <td>2</td>\n",
       "      <td>3</td>\n",
       "      <td>10</td>\n",
       "      <td>151</td>\n",
       "      <td>8</td>\n",
       "    </tr>\n",
       "    <tr>\n",
       "      <th>2</th>\n",
       "      <td>bachelors</td>\n",
       "      <td>3</td>\n",
       "      <td>4</td>\n",
       "      <td>8</td>\n",
       "      <td>160</td>\n",
       "      <td>8</td>\n",
       "    </tr>\n",
       "    <tr>\n",
       "      <th>3</th>\n",
       "      <td>masters</td>\n",
       "      <td>3</td>\n",
       "      <td>3</td>\n",
       "      <td>8</td>\n",
       "      <td>160</td>\n",
       "      <td>8</td>\n",
       "    </tr>\n",
       "    <tr>\n",
       "      <th>4</th>\n",
       "      <td>masters</td>\n",
       "      <td>3</td>\n",
       "      <td>2</td>\n",
       "      <td>6</td>\n",
       "      <td>156</td>\n",
       "      <td>8</td>\n",
       "    </tr>\n",
       "    <tr>\n",
       "      <th>5</th>\n",
       "      <td>masters</td>\n",
       "      <td>4</td>\n",
       "      <td>3</td>\n",
       "      <td>6</td>\n",
       "      <td>150</td>\n",
       "      <td>8</td>\n",
       "    </tr>\n",
       "    <tr>\n",
       "      <th>6</th>\n",
       "      <td>masters</td>\n",
       "      <td>3</td>\n",
       "      <td>2</td>\n",
       "      <td>8</td>\n",
       "      <td>164</td>\n",
       "      <td>8</td>\n",
       "    </tr>\n",
       "    <tr>\n",
       "      <th>7</th>\n",
       "      <td>phd</td>\n",
       "      <td>4</td>\n",
       "      <td>2</td>\n",
       "      <td>8</td>\n",
       "      <td>151</td>\n",
       "      <td>8</td>\n",
       "    </tr>\n",
       "    <tr>\n",
       "      <th>8</th>\n",
       "      <td>phd</td>\n",
       "      <td>5</td>\n",
       "      <td>1</td>\n",
       "      <td>10</td>\n",
       "      <td>158</td>\n",
       "      <td>8</td>\n",
       "    </tr>\n",
       "    <tr>\n",
       "      <th>9</th>\n",
       "      <td>phd</td>\n",
       "      <td>5</td>\n",
       "      <td>1</td>\n",
       "      <td>10</td>\n",
       "      <td>152</td>\n",
       "      <td>8</td>\n",
       "    </tr>\n",
       "  </tbody>\n",
       "</table>\n",
       "</div>"
      ],
      "text/plain": [
       "    edu_goal  hours_study  hours_TV  hours_sleep  height_cm  grade_level\n",
       "0  bachelors            1         4           10        155            8\n",
       "1  bachelors            2         3           10        151            8\n",
       "2  bachelors            3         4            8        160            8\n",
       "3    masters            3         3            8        160            8\n",
       "4    masters            3         2            6        156            8\n",
       "5    masters            4         3            6        150            8\n",
       "6    masters            3         2            8        164            8\n",
       "7        phd            4         2            8        151            8\n",
       "8        phd            5         1           10        158            8\n",
       "9        phd            5         1           10        152            8"
      ]
     },
     "execution_count": 2,
     "metadata": {},
     "output_type": "execute_result"
    }
   ],
   "source": [
    "X = df.drop(columns=['exam_score'])\n",
    "\n",
    "X"
   ]
  },
  {
   "cell_type": "code",
   "execution_count": 3,
   "metadata": {},
   "outputs": [
    {
     "data": {
      "text/plain": [
       "0     71\n",
       "1     72\n",
       "2     78\n",
       "3     79\n",
       "4     85\n",
       "5     86\n",
       "6     92\n",
       "7     93\n",
       "8     99\n",
       "9    100\n",
       "Name: exam_score, dtype: int64"
      ]
     },
     "execution_count": 3,
     "metadata": {},
     "output_type": "execute_result"
    }
   ],
   "source": [
    "y = df['exam_score']\n",
    "\n",
    "y"
   ]
  },
  {
   "cell_type": "code",
   "execution_count": 4,
   "metadata": {},
   "outputs": [
    {
     "name": "stdout",
     "output_type": "stream",
     "text": [
      "   hours_study  hours_TV  hours_sleep  height_cm  grade_level\n",
      "0            1         4           10        155            8\n",
      "1            2         3           10        151            8\n",
      "2            3         4            8        160            8\n",
      "3            3         3            8        160            8\n",
      "4            3         2            6        156            8\n",
      "5            4         3            6        150            8\n",
      "6            3         2            8        164            8\n",
      "7            4         2            8        151            8\n",
      "8            5         1           10        158            8\n",
      "9            5         1           10        152            8\n"
     ]
    }
   ],
   "source": [
    "X_num = X.drop(columns=['edu_goal'])\n",
    "\n",
    "print(X_num)"
   ]
  },
  {
   "cell_type": "markdown",
   "metadata": {},
   "source": [
    "## Variance threshold\n",
    "One of the most basic filter methods is to use a variance threshold to remove any features that have little to no variation in their values. This is because features with low variance do not contribute much information to a model. Since variance can only be calculated on numeric values, this method only works on quantitative features. "
   ]
  },
  {
   "cell_type": "code",
   "execution_count": 7,
   "metadata": {},
   "outputs": [
    {
     "data": {
      "text/plain": [
       "array([[  1,   4,  10, 155],\n",
       "       [  2,   3,  10, 151],\n",
       "       [  3,   4,   8, 160],\n",
       "       [  3,   3,   8, 160],\n",
       "       [  3,   2,   6, 156],\n",
       "       [  4,   3,   6, 150],\n",
       "       [  3,   2,   8, 164],\n",
       "       [  4,   2,   8, 151],\n",
       "       [  5,   1,  10, 158],\n",
       "       [  5,   1,  10, 152]])"
      ]
     },
     "execution_count": 7,
     "metadata": {},
     "output_type": "execute_result"
    }
   ],
   "source": [
    "from sklearn.feature_selection import VarianceThreshold\n",
    "\n",
    "selector = VarianceThreshold(threshold=1)  # 0 is default\n",
    "\n",
    "selector.fit_transform(X_num)"
   ]
  },
  {
   "cell_type": "markdown",
   "metadata": {},
   "source": [
    " As we can see, grade_level was removed because there is no variation in its values — all students are 8th graders. Since this data is the same across the board, a student’s grade level will not be able to provide any useful predictive information about their exam score, so it makes sense to drop grade_level as a feature."
   ]
  },
  {
   "cell_type": "code",
   "execution_count": 8,
   "metadata": {},
   "outputs": [
    {
     "name": "stdout",
     "output_type": "stream",
     "text": [
      "[0 1 2 3]\n"
     ]
    }
   ],
   "source": [
    "print(selector.get_support(indices=True))"
   ]
  },
  {
   "cell_type": "code",
   "execution_count": 9,
   "metadata": {},
   "outputs": [
    {
     "name": "stdout",
     "output_type": "stream",
     "text": [
      "['hours_study', 'hours_TV', 'hours_sleep', 'height_cm']\n"
     ]
    }
   ],
   "source": [
    "num_cols = list(X_num.columns[selector.get_support(indices=True)])\n",
    "\n",
    "print(num_cols)"
   ]
  },
  {
   "cell_type": "code",
   "execution_count": 10,
   "metadata": {},
   "outputs": [
    {
     "name": "stdout",
     "output_type": "stream",
     "text": [
      "   hours_study  hours_TV  hours_sleep  height_cm\n",
      "0            1         4           10        155\n",
      "1            2         3           10        151\n",
      "2            3         4            8        160\n",
      "3            3         3            8        160\n",
      "4            3         2            6        156\n",
      "5            4         3            6        150\n",
      "6            3         2            8        164\n",
      "7            4         2            8        151\n",
      "8            5         1           10        158\n",
      "9            5         1           10        152\n"
     ]
    }
   ],
   "source": [
    "X_num = X_num[num_cols]\n",
    "\n",
    "print(X_num)"
   ]
  },
  {
   "cell_type": "code",
   "execution_count": 11,
   "metadata": {},
   "outputs": [
    {
     "name": "stdout",
     "output_type": "stream",
     "text": [
      "    edu_goal  hours_study  hours_TV  hours_sleep  height_cm\n",
      "0  bachelors            1         4           10        155\n",
      "1  bachelors            2         3           10        151\n",
      "2  bachelors            3         4            8        160\n",
      "3    masters            3         3            8        160\n",
      "4    masters            3         2            6        156\n",
      "5    masters            4         3            6        150\n",
      "6    masters            3         2            8        164\n",
      "7        phd            4         2            8        151\n",
      "8        phd            5         1           10        158\n",
      "9        phd            5         1           10        152\n"
     ]
    }
   ],
   "source": [
    "X = X[['edu_goal'] + num_cols]\n",
    "\n",
    "print(X)"
   ]
  },
  {
   "cell_type": "code",
   "execution_count": null,
   "metadata": {},
   "outputs": [],
   "source": []
  },
  {
   "cell_type": "markdown",
   "metadata": {},
   "source": [
    "## Pearson’s correlation\n",
    "Another type of filter method involves finding the correlation between variables. In particular, the Pearson’s correlation coefficient is useful for measuring the linear relationship between two numeric, continuous variables — a coefficient close to 1 represents a positive correlation, -1 represents a negative correlation, and 0 represents no correlation. Like variance, Pearson’s correlation coefficient cannot be calculated for categorical variables. Although, there is a related point biserial correlation coefficient that can be computed when one variable is dichotomous, but we won’t focus on that here.\n",
    "\n",
    "There are 2 main ways of using correlation for feature selection — to detect correlation between features and to detect correlation between a feature and the target variable.\n",
    "\n",
    "Correlation between features\n",
    "When two features are highly correlated with one another, then keeping just one to be used in the model will be enough because otherwise they provide duplicate information. The second variable would only be redundant and serve to contribute unnecessary noise.\n",
    "\n",
    "To determine which variables are correlated with one another, we can use the .corr() method from pandas to find the correlation coefficient between each pair of numeric features in a DataFrame. By default, .corr() computes the Pearson’s correlation coefficient, but alternative methods can be specified using the method parameter. We can visualize the resulting correlation matrix using a heatmap:"
   ]
  },
  {
   "cell_type": "code",
   "execution_count": 12,
   "metadata": {},
   "outputs": [
    {
     "data": {
      "image/png": "[encoded data removed]",
      "text/plain": [
       "<Figure size 640x480 with 2 Axes>"
      ]
     },
     "metadata": {},
     "output_type": "display_data"
    }
   ],
   "source": [
    "import matplotlib.pyplot as plt\n",
    "import seaborn as sns\n",
    "\n",
    "corr_matrix = X_num.corr(method='pearson')  # 'pearson' is default\n",
    "\n",
    "sns.heatmap(corr_matrix, annot=True, cmap='RdBu_r')\n",
    "plt.show()"
   ]
  },
  {
   "cell_type": "markdown",
   "metadata": {},
   "source": []
  },
  {
   "cell_type": "code",
   "execution_count": 13,
   "metadata": {},
   "outputs": [
    {
     "name": "stdout",
     "output_type": "stream",
     "text": [
      "hours_TV hours_study -0.780763315142435\n"
     ]
    }
   ],
   "source": [
    "# Loop over bottom diagonal of correlation matrix\n",
    "for i in range(len(corr_matrix.columns)):\n",
    "    for j in range(i):\n",
    "\n",
    "        # Print variables with high correlation\n",
    "        if abs(corr_matrix.iloc[i, j]) > 0.7:\n",
    "            print(corr_matrix.columns[i], corr_matrix.columns[j], corr_matrix.iloc[i, j])"
   ]
  },
  {
   "cell_type": "markdown",
   "metadata": {},
   "source": [
    "As seen, hours_TV appears to be highly negatively correlated with hours_study — a student who watches a lot of TV tends to spend fewer hours studying, and vice versa. Because they provide redundant information, we can choose to remove one of those variables. To decide which one, we can look at their correlation with the target variable, then remove the one that is less associated with the target. This is explored in the next section."
   ]
  },
  {
   "cell_type": "markdown",
   "metadata": {},
   "source": []
  },
  {
   "cell_type": "code",
   "execution_count": null,
   "metadata": {},
   "outputs": [],
   "source": []
  },
  {
   "cell_type": "markdown",
   "metadata": {},
   "source": [
    "## Correlation between feature and target\n",
    "As mentioned, the second way correlation can be used is to determine if there is a relationship between a feature and the target variable. In the case of Pearson’s correlation, this is especially useful if we intend to fit a linear model, which assumes a linear relationship between the target and predictor variables. If a feature is not very correlated with the target variable, such as having a coefficient of between -0.3 and 0.3, then it may not be very predictive and can potentially be filtered out.\n",
    "\n",
    "We can use the same .corr() method seen previously to obtain the correlation between the target variable and the rest of the features. First, we’ll need to create a new DataFrame containing the numeric features with the exam_score column:"
   ]
  },
  {
   "cell_type": "code",
   "execution_count": 14,
   "metadata": {},
   "outputs": [
    {
     "name": "stdout",
     "output_type": "stream",
     "text": [
      "   hours_study  hours_TV  hours_sleep  height_cm  exam_score\n",
      "0            1         4           10        155          71\n",
      "1            2         3           10        151          72\n",
      "2            3         4            8        160          78\n",
      "3            3         3            8        160          79\n",
      "4            3         2            6        156          85\n",
      "5            4         3            6        150          86\n",
      "6            3         2            8        164          92\n",
      "7            4         2            8        151          93\n",
      "8            5         1           10        158          99\n",
      "9            5         1           10        152         100\n"
     ]
    }
   ],
   "source": [
    "X_y = X_num.copy()\n",
    "X_y['exam_score'] = y\n",
    "\n",
    "print(X_y)"
   ]
  },
  {
   "cell_type": "code",
   "execution_count": 15,
   "metadata": {},
   "outputs": [
    {
     "data": {
      "image/png": "[encoded data removed]",
      "text/plain": [
       "<Figure size 640x480 with 2 Axes>"
      ]
     },
     "metadata": {},
     "output_type": "display_data"
    }
   ],
   "source": [
    "corr_matrix = X_y.corr()\n",
    "\n",
    "# Isolate the column corresponding to `exam_score`\n",
    "corr_target = corr_matrix[['exam_score']].drop(labels=['exam_score'])\n",
    "\n",
    "sns.heatmap(corr_target, annot=True, fmt='.3', cmap='RdBu_r')\n",
    "plt.show()\n"
   ]
  },
  {
   "cell_type": "markdown",
   "metadata": {},
   "source": [
    "As seen, hours_study is positively correlated with exam_score and hours_TV is negatively correlated with it. It makes sense that hours_study and hours_TV would be negatively correlated with each other as we saw earlier, and just one of those features would suffice for predicting exam_score. Since hours_study has a stronger correlation with the target variable, let’s remove hours_TV as the redundant feature:"
   ]
  },
  {
   "cell_type": "code",
   "execution_count": 16,
   "metadata": {},
   "outputs": [
    {
     "name": "stdout",
     "output_type": "stream",
     "text": [
      "    edu_goal  hours_study  hours_sleep  height_cm\n",
      "0  bachelors            1           10        155\n",
      "1  bachelors            2           10        151\n",
      "2  bachelors            3            8        160\n",
      "3    masters            3            8        160\n",
      "4    masters            3            6        156\n",
      "5    masters            4            6        150\n",
      "6    masters            3            8        164\n",
      "7        phd            4            8        151\n",
      "8        phd            5           10        158\n",
      "9        phd            5           10        152\n"
     ]
    }
   ],
   "source": [
    "X = X.drop(columns=['hours_TV'])\n",
    "\n",
    "print(X)"
   ]
  },
  {
   "cell_type": "code",
   "execution_count": null,
   "metadata": {},
   "outputs": [],
   "source": []
  }
 ],
 "metadata": {
  "kernelspec": {
   "display_name": "Python 3",
   "language": "python",
   "name": "python3"
  },
  "language_info": {
   "codemirror_mode": {
    "name": "ipython",
    "version": 3
   },
   "file_extension": ".py",
   "mimetype": "text/x-python",
   "name": "python",
   "nbconvert_exporter": "python",
   "pygments_lexer": "ipython3",
   "version": "3.10.14"
  }
 },
 "nbformat": 4,
 "nbformat_minor": 2
}
